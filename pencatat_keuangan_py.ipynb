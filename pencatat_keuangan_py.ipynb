{
  "nbformat": 4,
  "nbformat_minor": 0,
  "metadata": {
    "colab": {
      "provenance": [],
      "authorship_tag": "ABX9TyNV/0dVcnPbaAjBBL5/9aag",
      "include_colab_link": true
    },
    "kernelspec": {
      "name": "python3",
      "display_name": "Python 3"
    },
    "language_info": {
      "name": "python"
    }
  },
  "cells": [
    {
      "cell_type": "markdown",
      "metadata": {
        "id": "view-in-github",
        "colab_type": "text"
      },
      "source": [
        "<a href=\"https://colab.research.google.com/github/sevenknighid6-ship-it/pencatat-keuangan-sederhana/blob/main/pencatat_keuangan_py.ipynb\" target=\"_parent\"><img src=\"https://colab.research.google.com/assets/colab-badge.svg\" alt=\"Open In Colab\"/></a>"
      ]
    },
    {
      "cell_type": "code",
      "execution_count": 1,
      "metadata": {
        "colab": {
          "base_uri": "https://localhost:8080/"
        },
        "id": "lHH94r5mRdki",
        "outputId": "3a82de3f-fa40-4a61-d640-a43dc0d41824"
      },
      "outputs": [
        {
          "output_type": "stream",
          "name": "stdout",
          "text": [
            "\n",
            "=== Menu Pencatat Keuangan ===\n",
            "1. Tambah transaksi\n",
            "2. Lihat transaksi\n",
            "3. Keluar\n",
            "Pilih menu (1/2/3): 1\n",
            "\n",
            "=== Tambah Transaksi ===\n",
            "Jenis (pemasukan/pengeluaran): pemasukan\n",
            "Masukkan jumlah uang: 30000\n",
            "Keterangan: uang jajan\n",
            "Transaksi berhasil ditambahkan!\n",
            "\n",
            "=== Menu Pencatat Keuangan ===\n",
            "1. Tambah transaksi\n",
            "2. Lihat transaksi\n",
            "3. Keluar\n",
            "Pilih menu (1/2/3): 2\n",
            "\n",
            "=== Daftar Transaksi ===\n",
            "1. Pemasukan - Rp30000.0 (uang jajan)\n",
            "---------------------------\n",
            "Saldo akhir: Rp30000.0\n",
            "\n",
            "=== Menu Pencatat Keuangan ===\n",
            "1. Tambah transaksi\n",
            "2. Lihat transaksi\n",
            "3. Keluar\n",
            "Pilih menu (1/2/3): 3\n",
            "Terima kasih telah menggunakan aplikasi!\n"
          ]
        }
      ],
      "source": [
        "# Aplikasi Pencatat Keuangan Sederhana\n",
        "\n",
        "transaksi = []\n",
        "\n",
        "def tambah_transaksi():\n",
        "    print(\"\\n=== Tambah Transaksi ===\")\n",
        "    jenis = input(\"Jenis (pemasukan/pengeluaran): \").lower()\n",
        "    if jenis not in [\"pemasukan\", \"pengeluaran\"]:\n",
        "        print(\"Jenis tidak valid!\")\n",
        "        return\n",
        "    jumlah = float(input(\"Masukkan jumlah uang: \"))\n",
        "    keterangan = input(\"Keterangan: \")\n",
        "    transaksi.append({\"jenis\": jenis, \"jumlah\": jumlah, \"keterangan\": keterangan})\n",
        "    print(\"Transaksi berhasil ditambahkan!\")\n",
        "\n",
        "def lihat_transaksi():\n",
        "    print(\"\\n=== Daftar Transaksi ===\")\n",
        "    if not transaksi:\n",
        "        print(\"Belum ada transaksi.\")\n",
        "        return\n",
        "    total_masuk = sum(t[\"jumlah\"] for t in transaksi if t[\"jenis\"] == \"pemasukan\")\n",
        "    total_keluar = sum(t[\"jumlah\"] for t in transaksi if t[\"jenis\"] == \"pengeluaran\")\n",
        "    saldo = total_masuk - total_keluar\n",
        "    for i, t in enumerate(transaksi, start=1):\n",
        "        print(f\"{i}. {t['jenis'].capitalize()} - Rp{t['jumlah']} ({t['keterangan']})\")\n",
        "    print(\"---------------------------\")\n",
        "    print(f\"Saldo akhir: Rp{saldo}\")\n",
        "\n",
        "def menu():\n",
        "    while True:\n",
        "        print(\"\\n=== Menu Pencatat Keuangan ===\")\n",
        "        print(\"1. Tambah transaksi\")\n",
        "        print(\"2. Lihat transaksi\")\n",
        "        print(\"3. Keluar\")\n",
        "        pilih = input(\"Pilih menu (1/2/3): \")\n",
        "        if pilih == \"1\":\n",
        "            tambah_transaksi()\n",
        "        elif pilih == \"2\":\n",
        "            lihat_transaksi()\n",
        "        elif pilih == \"3\":\n",
        "            print(\"Terima kasih telah menggunakan aplikasi!\")\n",
        "            break\n",
        "        else:\n",
        "            print(\"Pilihan tidak valid!\")\n",
        "\n",
        "menu()"
      ]
    }
  ]
}